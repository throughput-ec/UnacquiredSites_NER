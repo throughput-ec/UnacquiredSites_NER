{
 "cells": [
  {
   "cell_type": "code",
   "execution_count": 1,
   "metadata": {},
   "outputs": [],
   "source": [
    "import json\n",
    "import spacy\n",
    "from spacy.tokens import Doc\n",
    "from spacy.lang.en import English\n",
    "import en_core_web_sm\n",
    "from spacy.matcher import Matcher\n",
    "from spacy import displacy"
   ]
  },
  {
   "cell_type": "markdown",
   "metadata": {},
   "source": [
    "# Name Entity Recognition Task\n",
    "## Model Training"
   ]
  },
  {
   "cell_type": "code",
   "execution_count": 4,
   "metadata": {},
   "outputs": [
    {
     "data": {
      "text/plain": [
       "'/Users/seiryu8808/Desktop/UWisc/Throughput/UnacquiredSites_NER'"
      ]
     },
     "execution_count": 4,
     "metadata": {},
     "output_type": "execute_result"
    }
   ],
   "source": [
    "pwd()"
   ]
  },
  {
   "cell_type": "code",
   "execution_count": 5,
   "metadata": {},
   "outputs": [],
   "source": [
    "with open('data/training_data.json', 'r') as json_file:\n",
    "    TRAINING_DATA = json.load(json_file)"
   ]
  },
  {
   "cell_type": "code",
   "execution_count": 6,
   "metadata": {},
   "outputs": [
    {
     "data": {
      "text/plain": [
       "29"
      ]
     },
     "execution_count": 6,
     "metadata": {},
     "output_type": "execute_result"
    }
   ],
   "source": [
    "len(TRAINING_DATA)"
   ]
  },
  {
   "cell_type": "code",
   "execution_count": 4,
   "metadata": {},
   "outputs": [],
   "source": [
    "nlp = en_core_web_sm.load()"
   ]
  },
  {
   "cell_type": "markdown",
   "metadata": {},
   "source": [
    "# Adding labels to existing pipeline"
   ]
  },
  {
   "cell_type": "code",
   "execution_count": 5,
   "metadata": {},
   "outputs": [],
   "source": [
    "# nlp.pipe_names\n",
    "ner = nlp.get_pipe('ner')\n",
    "ner.add_label(\"COORDS\")"
   ]
  },
  {
   "cell_type": "markdown",
   "metadata": {},
   "source": [
    "## Training"
   ]
  },
  {
   "cell_type": "code",
   "execution_count": 6,
   "metadata": {},
   "outputs": [
    {
     "name": "stdout",
     "output_type": "stream",
     "text": [
      "{'ner': 576.4935999057637}\n",
      "{'ner': 112.32768226790435}\n"
     ]
    },
    {
     "name": "stderr",
     "output_type": "stream",
     "text": [
      "/opt/anaconda3/lib/python3.8/site-packages/thinc/neural/_classes/layernorm.py:74: RuntimeWarning: invalid value encountered in reciprocal\n",
      "  d_xhat = N * dy - sum_dy - dist * var ** (-1.0) * sum_dy_dist\n"
     ]
    },
    {
     "name": "stdout",
     "output_type": "stream",
     "text": [
      "{'ner': 291.80477071593947}\n",
      "{'ner': 768.5259309453104}\n",
      "{'ner': 481.03639800724324}\n",
      "{'ner': 227.39448965122628}\n",
      "{'ner': 359.42122422734025}\n",
      "{'ner': 371.83353594895266}\n",
      "{'ner': 342.99542569523186}\n",
      "{'ner': 198.11446602435984}\n",
      "{'ner': 98.3990459043671}\n",
      "{'ner': 79.85883507639855}\n",
      "{'ner': 49.98096876493649}\n",
      "{'ner': 57.41766602808977}\n",
      "{'ner': 31.42112323919913}\n",
      "{'ner': 88.45256075942414}\n",
      "{'ner': 67.81030775133885}\n",
      "{'ner': 27.302592922447452}\n",
      "{'ner': 19.626511909717877}\n",
      "{'ner': 13.628974788533542}\n",
      "{'ner': 58.81140135888534}\n",
      "{'ner': 17.447772697252283}\n",
      "{'ner': 15.732772535963992}\n",
      "{'ner': 10.330796049532374}\n",
      "{'ner': 10.198124958725469}\n",
      "{'ner': 22.24923823378256}\n",
      "{'ner': 9.818847471210637}\n",
      "{'ner': 10.18645269100001}\n",
      "{'ner': 14.554145714047229}\n",
      "{'ner': 9.466280749131004}\n"
     ]
    }
   ],
   "source": [
    "import random\n",
    "import json\n",
    "\n",
    "# Start the training\n",
    "other_pipes = [pipe for pipe in nlp.pipe_names if pipe != 'ner']\n",
    "with nlp.disable_pipes(*other_pipes):  # only train NER\n",
    "    nlp.begin_training()\n",
    "\n",
    "    # Loop for 10 iterations\n",
    "    for itn in range(30):\n",
    "        # Shuffle the training data\n",
    "        random.shuffle(TRAINING_DATA)\n",
    "        losses = {}\n",
    "\n",
    "        # Batch the examples and iterate over them\n",
    "        for batch in spacy.util.minibatch(TRAINING_DATA, size=2):\n",
    "            texts = [text for text, entities in batch]\n",
    "            annotations = [entities for text, entities in batch]\n",
    "\n",
    "            # Update the model\n",
    "            nlp.update(texts, annotations, losses=losses)\n",
    "        print(losses)"
   ]
  },
  {
   "cell_type": "code",
   "execution_count": 7,
   "metadata": {},
   "outputs": [
    {
     "data": {
      "text/plain": [
       "'Lake Titicaca (Bolivia/Peru ; 3810 m above sea level ; 1617 ° S, 68.570 ° W) currently covers c. 8500 km2 of the Altiplano and lies between the Cordilleras Oriental and Occidental .'"
      ]
     },
     "execution_count": 7,
     "metadata": {},
     "output_type": "execute_result"
    }
   ],
   "source": [
    "example = nlp(TRAINING_DATA[6][0])\n",
    "example.text"
   ]
  },
  {
   "cell_type": "code",
   "execution_count": 8,
   "metadata": {},
   "outputs": [
    {
     "data": {
      "text/html": [
       "<span class=\"tex2jax_ignore\"><div class=\"entities\" style=\"line-height: 2.5; direction: ltr\">Lake Titicaca (Bolivia/Peru ; 3810 m above sea level ; \n",
       "<mark class=\"entity\" style=\"background: #ddd; padding: 0.45em 0.6em; margin: 0 0.25em; line-height: 1; border-radius: 0.35em;\">\n",
       "    1617 ° S, 68.570 ° W\n",
       "    <span style=\"font-size: 0.8em; font-weight: bold; line-height: 1; border-radius: 0.35em; text-transform: uppercase; vertical-align: middle; margin-left: 0.5rem\">COORDS</span>\n",
       "</mark>\n",
       ") currently covers c. 8500 km2 of the Altiplano and lies between the Cordilleras Oriental and \n",
       "<mark class=\"entity\" style=\"background: #ff9561; padding: 0.45em 0.6em; margin: 0 0.25em; line-height: 1; border-radius: 0.35em;\">\n",
       "    Occidental\n",
       "    <span style=\"font-size: 0.8em; font-weight: bold; line-height: 1; border-radius: 0.35em; text-transform: uppercase; vertical-align: middle; margin-left: 0.5rem\">LOC</span>\n",
       "</mark>\n",
       " .</div></span>"
      ],
      "text/plain": [
       "<IPython.core.display.HTML object>"
      ]
     },
     "metadata": {},
     "output_type": "display_data"
    }
   ],
   "source": [
    "doc = nlp(example.text)\n",
    "displacy.render(doc, style=\"ent\")"
   ]
  },
  {
   "cell_type": "code",
   "execution_count": null,
   "metadata": {},
   "outputs": [],
   "source": [
    "import pickle\n",
    "\n",
    "pickle.dump(nlp, open( \"nlp.pkl\", \"wb\" ))"
   ]
  },
  {
   "cell_type": "code",
   "execution_count": 9,
   "metadata": {},
   "outputs": [],
   "source": [
    "example2 = nlp(\"I have a new house. I bought my house very far far away. It is located in the 110 ° 106 \\\" N, 10 506.30 W  I love it! I think I live in Milan now. I also think that in North Canada gueese are cute.\")"
   ]
  },
  {
   "cell_type": "code",
   "execution_count": 10,
   "metadata": {},
   "outputs": [
    {
     "data": {
      "text/html": [
       "<span class=\"tex2jax_ignore\"><div class=\"entities\" style=\"line-height: 2.5; direction: ltr\">I have a new house. I bought my house very far far away. It is located in the 110 ° 106 &quot; N, 10 506.30 W  I love it! I think I live in \n",
       "<mark class=\"entity\" style=\"background: #feca74; padding: 0.45em 0.6em; margin: 0 0.25em; line-height: 1; border-radius: 0.35em;\">\n",
       "    Milan\n",
       "    <span style=\"font-size: 0.8em; font-weight: bold; line-height: 1; border-radius: 0.35em; text-transform: uppercase; vertical-align: middle; margin-left: 0.5rem\">GPE</span>\n",
       "</mark>\n",
       " now. I also think that in \n",
       "<mark class=\"entity\" style=\"background: #ff9561; padding: 0.45em 0.6em; margin: 0 0.25em; line-height: 1; border-radius: 0.35em;\">\n",
       "    North Canada\n",
       "    <span style=\"font-size: 0.8em; font-weight: bold; line-height: 1; border-radius: 0.35em; text-transform: uppercase; vertical-align: middle; margin-left: 0.5rem\">LOC</span>\n",
       "</mark>\n",
       " gueese are cute.</div></span>"
      ],
      "text/plain": [
       "<IPython.core.display.HTML object>"
      ]
     },
     "metadata": {},
     "output_type": "display_data"
    }
   ],
   "source": [
    "displacy.render(example2, style=\"ent\")"
   ]
  },
  {
   "cell_type": "code",
   "execution_count": null,
   "metadata": {},
   "outputs": [],
   "source": [
    "colors = {'COORDS': \"#85C1E9\", \"GPE\": \"#ff6961\", \"LOC\": \"#ff6961\"}\n",
    "options = {\"ents\": ['COORDS', 'GPE', 'LOC'], \"colors\": colors}\n",
    "\n",
    "displacy.serve(doc, style='ent',options=options)"
   ]
  },
  {
   "cell_type": "code",
   "execution_count": 22,
   "metadata": {},
   "outputs": [],
   "source": [
    "text = nlp(\"Spruce Pond, 2.6 ha in surface area, is situated at 223 m elevation, with maximum water depth of 5 m, and lies within Harriman State Park, southeastern New York, at 41°14′22″N74°12′15″W (Sloatsburg 7.5′ USGS Quadrangle, 1955). Harriman State Park, a unit of the Palisades Interstate Park, is located in the southwestern corner of the Hudson Highlands. The forests of southeastern New York are included in the Quercus–Castanea region of the eastern deciduous forest by Braun (1964), whereas Ku¨chler (1964) describes certain areas as ecotonal regions between the Quercus forests to the south and the Tsuga–Pinus strobus–northern hardwoods forests to the north. Near Spruce Pond, north-facing slopes are dominated by Quercus rubra, Quercus prinus, Acer saccharum Betula lenta, Acer rubrum, Fagus grandifolia, Liriodendron tulipifera, Betula lutea, and Cornus florida. South-facing slopes are dominated by abundant Quercus velutina, Quercus alba, and Quercus rubra. Two-thirds of Spruce Pond\\’s periphery is a low-shrub bog with Chamaedaphne calyculata, Decodon verticillata, Kalmia angustifolia, and Vaccinium corymbosum dominant (Lynn and Karlin, 1985). The sphagnum mat also supports Larix laricina and Picea mariana.\")"
   ]
  },
  {
   "cell_type": "code",
   "execution_count": 23,
   "metadata": {},
   "outputs": [
    {
     "data": {
      "text/html": [
       "<span class=\"tex2jax_ignore\"><div class=\"entities\" style=\"line-height: 2.5; direction: ltr\">Spruce Pond, 2.6 ha in surface area, is situated at 223 m elevation, with maximum water depth of 5 m, and lies within Harriman State Park, southeastern \n",
       "<mark class=\"entity\" style=\"background: #feca74; padding: 0.45em 0.6em; margin: 0 0.25em; line-height: 1; border-radius: 0.35em;\">\n",
       "    New York\n",
       "    <span style=\"font-size: 0.8em; font-weight: bold; line-height: 1; border-radius: 0.35em; text-transform: uppercase; vertical-align: middle; margin-left: 0.5rem\">GPE</span>\n",
       "</mark>\n",
       ", at \n",
       "<mark class=\"entity\" style=\"background: #ddd; padding: 0.45em 0.6em; margin: 0 0.25em; line-height: 1; border-radius: 0.35em;\">\n",
       "    41°14′22″N74°12′15″W\n",
       "    <span style=\"font-size: 0.8em; font-weight: bold; line-height: 1; border-radius: 0.35em; text-transform: uppercase; vertical-align: middle; margin-left: 0.5rem\">COORDS</span>\n",
       "</mark>\n",
       " (Sloatsburg 7.5′ USGS Quadrangle, 1955). \n",
       "<mark class=\"entity\" style=\"background: #feca74; padding: 0.45em 0.6em; margin: 0 0.25em; line-height: 1; border-radius: 0.35em;\">\n",
       "    Harriman State Park\n",
       "    <span style=\"font-size: 0.8em; font-weight: bold; line-height: 1; border-radius: 0.35em; text-transform: uppercase; vertical-align: middle; margin-left: 0.5rem\">GPE</span>\n",
       "</mark>\n",
       ", a unit of the Palisades Interstate Park, is located in the southwestern corner of \n",
       "<mark class=\"entity\" style=\"background: #ff9561; padding: 0.45em 0.6em; margin: 0 0.25em; line-height: 1; border-radius: 0.35em;\">\n",
       "    the Hudson Highlands\n",
       "    <span style=\"font-size: 0.8em; font-weight: bold; line-height: 1; border-radius: 0.35em; text-transform: uppercase; vertical-align: middle; margin-left: 0.5rem\">LOC</span>\n",
       "</mark>\n",
       ". The forests of southeastern \n",
       "<mark class=\"entity\" style=\"background: #feca74; padding: 0.45em 0.6em; margin: 0 0.25em; line-height: 1; border-radius: 0.35em;\">\n",
       "    New York\n",
       "    <span style=\"font-size: 0.8em; font-weight: bold; line-height: 1; border-radius: 0.35em; text-transform: uppercase; vertical-align: middle; margin-left: 0.5rem\">GPE</span>\n",
       "</mark>\n",
       " are included in the Quercus–Castanea region of the eastern deciduous forest by Braun (1964), whereas Ku¨chler (1964) describes certain areas as ecotonal regions between the Quercus forests to the south and the Tsuga–Pinus strobus–northern hardwoods forests to the north. Near Spruce Pond, north-facing slopes are dominated by Quercus rubra, Quercus prinus, Acer saccharum Betula lenta, Acer rubrum, Fagus grandifolia, Liriodendron tulipifera, Betula lutea, and Cornus \n",
       "<mark class=\"entity\" style=\"background: #feca74; padding: 0.45em 0.6em; margin: 0 0.25em; line-height: 1; border-radius: 0.35em;\">\n",
       "    florida\n",
       "    <span style=\"font-size: 0.8em; font-weight: bold; line-height: 1; border-radius: 0.35em; text-transform: uppercase; vertical-align: middle; margin-left: 0.5rem\">GPE</span>\n",
       "</mark>\n",
       ". South-facing slopes are dominated by abundant Quercus velutina, Quercus alba, and \n",
       "<mark class=\"entity\" style=\"background: #feca74; padding: 0.45em 0.6em; margin: 0 0.25em; line-height: 1; border-radius: 0.35em;\">\n",
       "    Quercus\n",
       "    <span style=\"font-size: 0.8em; font-weight: bold; line-height: 1; border-radius: 0.35em; text-transform: uppercase; vertical-align: middle; margin-left: 0.5rem\">GPE</span>\n",
       "</mark>\n",
       " rubra. Two-thirds of Spruce Pond\\’s periphery is a low-shrub bog with Chamaedaphne calyculata, Decodon verticillata, \n",
       "<mark class=\"entity\" style=\"background: #ff9561; padding: 0.45em 0.6em; margin: 0 0.25em; line-height: 1; border-radius: 0.35em;\">\n",
       "    Kalmia\n",
       "    <span style=\"font-size: 0.8em; font-weight: bold; line-height: 1; border-radius: 0.35em; text-transform: uppercase; vertical-align: middle; margin-left: 0.5rem\">LOC</span>\n",
       "</mark>\n",
       " angustifolia, and Vaccinium corymbosum dominant (Lynn and \n",
       "<mark class=\"entity\" style=\"background: #feca74; padding: 0.45em 0.6em; margin: 0 0.25em; line-height: 1; border-radius: 0.35em;\">\n",
       "    Karlin\n",
       "    <span style=\"font-size: 0.8em; font-weight: bold; line-height: 1; border-radius: 0.35em; text-transform: uppercase; vertical-align: middle; margin-left: 0.5rem\">GPE</span>\n",
       "</mark>\n",
       ", 1985). The sphagnum mat also supports Larix laricina and Picea mariana.</div></span>"
      ],
      "text/plain": [
       "<IPython.core.display.HTML object>"
      ]
     },
     "metadata": {},
     "output_type": "display_data"
    }
   ],
   "source": [
    "\n",
    "displacy.render(text, style=\"ent\")"
   ]
  },
  {
   "cell_type": "code",
   "execution_count": null,
   "metadata": {},
   "outputs": [],
   "source": []
  }
 ],
 "metadata": {
  "interpreter": {
   "hash": "40d3a090f54c6569ab1632332b64b2c03c39dcf918b08424e98f38b5ae0af88f"
  },
  "kernelspec": {
   "display_name": "Python 3.8.8 64-bit ('base': conda)",
   "name": "python3"
  },
  "language_info": {
   "codemirror_mode": {
    "name": "ipython",
    "version": 3
   },
   "file_extension": ".py",
   "mimetype": "text/x-python",
   "name": "python",
   "nbconvert_exporter": "python",
   "pygments_lexer": "ipython3",
   "version": "3.8.8"
  },
  "orig_nbformat": 4
 },
 "nbformat": 4,
 "nbformat_minor": 2
}
