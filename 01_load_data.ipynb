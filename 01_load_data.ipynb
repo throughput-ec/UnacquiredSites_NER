{
 "cells": [
  {
   "cell_type": "code",
   "execution_count": 1,
   "metadata": {},
   "outputs": [],
   "source": [
    "import pandas as pd\n",
    "import spacy\n",
    "from spacy.tokens import Doc\n",
    "from spacy.lang.en import English"
   ]
  },
  {
   "cell_type": "markdown",
   "metadata": {},
   "source": [
    "# Name Entity Recognition Task\n"
   ]
  },
  {
   "cell_type": "markdown",
   "metadata": {},
   "source": [
    "## Data Transformation and EDA"
   ]
  },
  {
   "cell_type": "code",
   "execution_count": 2,
   "metadata": {},
   "outputs": [],
   "source": [
    "data = pd.read_csv('data/preprocessed_sentences.tsv', delimiter = '\\t', usecols = ['gddid','sentid', 'title', 'sentence'])"
   ]
  },
  {
   "cell_type": "code",
   "execution_count": 3,
   "metadata": {},
   "outputs": [
    {
     "data": {
      "text/html": [
       "<div>\n",
       "<style scoped>\n",
       "    .dataframe tbody tr th:only-of-type {\n",
       "        vertical-align: middle;\n",
       "    }\n",
       "\n",
       "    .dataframe tbody tr th {\n",
       "        vertical-align: top;\n",
       "    }\n",
       "\n",
       "    .dataframe thead th {\n",
       "        text-align: right;\n",
       "    }\n",
       "</style>\n",
       "<table border=\"1\" class=\"dataframe\">\n",
       "  <thead>\n",
       "    <tr style=\"text-align: right;\">\n",
       "      <th></th>\n",
       "      <th>gddid</th>\n",
       "      <th>sentid</th>\n",
       "      <th>title</th>\n",
       "      <th>sentence</th>\n",
       "    </tr>\n",
       "  </thead>\n",
       "  <tbody>\n",
       "    <tr>\n",
       "      <th>0</th>\n",
       "      <td>54b43266e138239d8684efed</td>\n",
       "      <td>1</td>\n",
       "      <td>Development of the mixed conifer forest in nor...</td>\n",
       "      <td>Available online at www.sciencedirect.com Quat...</td>\n",
       "    </tr>\n",
       "    <tr>\n",
       "      <th>1</th>\n",
       "      <td>54b43266e138239d8684efed</td>\n",
       "      <td>2</td>\n",
       "      <td>Development of the mixed conifer forest in nor...</td>\n",
       "      <td>The Chihuahueños Bog record extends to over 15...</td>\n",
       "    </tr>\n",
       "    <tr>\n",
       "      <th>2</th>\n",
       "      <td>54b43266e138239d8684efed</td>\n",
       "      <td>3</td>\n",
       "      <td>Development of the mixed conifer forest in nor...</td>\n",
       "      <td>An Artemisia steppe, then an open Picea woodla...</td>\n",
       "    </tr>\n",
       "  </tbody>\n",
       "</table>\n",
       "</div>"
      ],
      "text/plain": [
       "                      gddid  sentid  \\\n",
       "0  54b43266e138239d8684efed       1   \n",
       "1  54b43266e138239d8684efed       2   \n",
       "2  54b43266e138239d8684efed       3   \n",
       "\n",
       "                                               title  \\\n",
       "0  Development of the mixed conifer forest in nor...   \n",
       "1  Development of the mixed conifer forest in nor...   \n",
       "2  Development of the mixed conifer forest in nor...   \n",
       "\n",
       "                                            sentence  \n",
       "0  Available online at www.sciencedirect.com Quat...  \n",
       "1  The Chihuahueños Bog record extends to over 15...  \n",
       "2  An Artemisia steppe, then an open Picea woodla...  "
      ]
     },
     "execution_count": 3,
     "metadata": {},
     "output_type": "execute_result"
    }
   ],
   "source": [
    "data.head(3)"
   ]
  },
  {
   "cell_type": "code",
   "execution_count": 4,
   "metadata": {},
   "outputs": [
    {
     "data": {
      "text/plain": [
       "204"
      ]
     },
     "execution_count": 4,
     "metadata": {},
     "output_type": "execute_result"
    }
   ],
   "source": [
    "data['gddid'].nunique()"
   ]
  },
  {
   "cell_type": "code",
   "execution_count": 5,
   "metadata": {},
   "outputs": [
    {
     "data": {
      "text/plain": [
       "106640"
      ]
     },
     "execution_count": 5,
     "metadata": {},
     "output_type": "execute_result"
    }
   ],
   "source": [
    "sent_count = data.groupby('gddid').count()['sentid'].reset_index()\n",
    "sent_count['sentid'].sum()"
   ]
  },
  {
   "cell_type": "code",
   "execution_count": 6,
   "metadata": {},
   "outputs": [],
   "source": [
    "data_list = []\n",
    "for i in range(len(data)):\n",
    "    context_dict = {}\n",
    "    sentence = data.loc[i, 'sentence']\n",
    "    context_dict['title'] = data.loc[i, 'title']\n",
    "    context_dict['gddid'] = data.loc[i, 'gddid']\n",
    "    context_dict['sentid'] = int(data.loc[i, 'sentid'])\n",
    "    data_list.append([sentence, context_dict])"
   ]
  },
  {
   "cell_type": "code",
   "execution_count": 7,
   "metadata": {},
   "outputs": [
    {
     "data": {
      "text/plain": [
       "['Available online at www.sciencedirect.com Quaternary Research 69 (2008) 263275 www.elsevier.com/locate/yqres Development of the mixed conifer forest in northern New Mexico and its relationship to Holocene environmental change R. Scott Anderson a, bRenata B. Jass b  1, Jaime L. Toney b  2, Craig D. Allen c, Luz M. Cisneros-Dozal d, Marcey Hess d, Jeff Heikoop d, Julianna Fessenden d a Center for Environmental Sciences & Education, Box 5694, Northern Arizona University, Flagstaff, AZ 86011, USA b Quaternary Sciences Program & Bilby Research Center, Box 6013, Northern Arizona University, Flagstaff, AZ 86011, USA c U.S. Geological Survey, Jemez Mountains Field Station, Bandelier National Monument, HCR-1, Box 115, Los Alamos, NM 87544, USA d Earth & Environmental Sciences Division, Hydrology, Geochemistry & Geology Group, EES-6, MS-D462, Los Alamos National Laboratory, Los Alamos, NM 87545, USA Received 28 April 2007 Available online 29 January 2008 Abstract Chihuahueños Bog (2925 m) in the Jemez Mountains of northern New Mexico contains one of the few records of late-glacial and postglacial development of the mixed conifer forest in southwestern North America .',\n",
       " {'title': 'Development of the mixed conifer forest in northern New Mexico and its relationship to Holocene environmental change',\n",
       "  'gddid': '54b43266e138239d8684efed',\n",
       "  'sentid': 1}]"
      ]
     },
     "execution_count": 7,
     "metadata": {},
     "output_type": "execute_result"
    }
   ],
   "source": [
    "data_list[0]"
   ]
  },
  {
   "cell_type": "code",
   "execution_count": 8,
   "metadata": {},
   "outputs": [],
   "source": [
    "import json\n",
    "json_string = json.dumps(data_list)\n",
    "# print(json_string)"
   ]
  },
  {
   "cell_type": "code",
   "execution_count": 9,
   "metadata": {},
   "outputs": [],
   "source": [
    "data = json.loads(json_string)"
   ]
  },
  {
   "cell_type": "code",
   "execution_count": 10,
   "metadata": {},
   "outputs": [
    {
     "data": {
      "text/plain": [
       "['Available online at www.sciencedirect.com Quaternary Research 69 (2008) 263275 www.elsevier.com/locate/yqres Development of the mixed conifer forest in northern New Mexico and its relationship to Holocene environmental change R. Scott Anderson a, bRenata B. Jass b  1, Jaime L. Toney b  2, Craig D. Allen c, Luz M. Cisneros-Dozal d, Marcey Hess d, Jeff Heikoop d, Julianna Fessenden d a Center for Environmental Sciences & Education, Box 5694, Northern Arizona University, Flagstaff, AZ 86011, USA b Quaternary Sciences Program & Bilby Research Center, Box 6013, Northern Arizona University, Flagstaff, AZ 86011, USA c U.S. Geological Survey, Jemez Mountains Field Station, Bandelier National Monument, HCR-1, Box 115, Los Alamos, NM 87544, USA d Earth & Environmental Sciences Division, Hydrology, Geochemistry & Geology Group, EES-6, MS-D462, Los Alamos National Laboratory, Los Alamos, NM 87545, USA Received 28 April 2007 Available online 29 January 2008 Abstract Chihuahueños Bog (2925 m) in the Jemez Mountains of northern New Mexico contains one of the few records of late-glacial and postglacial development of the mixed conifer forest in southwestern North America .',\n",
       " {'title': 'Development of the mixed conifer forest in northern New Mexico and its relationship to Holocene environmental change',\n",
       "  'gddid': '54b43266e138239d8684efed',\n",
       "  'sentid': 1}]"
      ]
     },
     "execution_count": 10,
     "metadata": {},
     "output_type": "execute_result"
    }
   ],
   "source": [
    "data[0]"
   ]
  },
  {
   "cell_type": "code",
   "execution_count": 11,
   "metadata": {},
   "outputs": [],
   "source": [
    "new_data_list = []\n",
    "for obs in range(len(data)):\n",
    "    if type(data[obs][0]) != float:\n",
    "        new_data_list.append(data[obs])"
   ]
  },
  {
   "cell_type": "code",
   "execution_count": 12,
   "metadata": {},
   "outputs": [
    {
     "data": {
      "text/plain": [
       "106640"
      ]
     },
     "execution_count": 12,
     "metadata": {},
     "output_type": "execute_result"
    }
   ],
   "source": [
    "len(data)"
   ]
  },
  {
   "cell_type": "code",
   "execution_count": 13,
   "metadata": {},
   "outputs": [
    {
     "data": {
      "text/plain": [
       "106494"
      ]
     },
     "execution_count": 13,
     "metadata": {},
     "output_type": "execute_result"
    }
   ],
   "source": [
    "len(new_data_list)"
   ]
  },
  {
   "cell_type": "code",
   "execution_count": 14,
   "metadata": {},
   "outputs": [],
   "source": [
    "json_string = json.dumps(new_data_list)"
   ]
  },
  {
   "cell_type": "code",
   "execution_count": 15,
   "metadata": {},
   "outputs": [],
   "source": [
    "with open('sentences_data.json', 'w') as f:\n",
    "    json.dump(json_string, f)"
   ]
  },
  {
   "cell_type": "markdown",
   "metadata": {},
   "source": [
    "## How to write coordinates?"
   ]
  },
  {
   "cell_type": "markdown",
   "metadata": {},
   "source": [
    "### REGEX Library"
   ]
  },
  {
   "cell_type": "code",
   "execution_count": 17,
   "metadata": {},
   "outputs": [],
   "source": [
    "import re\n",
    "pattern = r'([-]?\\d{1,3}\\.\\d{1,}[,]?[NESWnesw][\\s|,|\\']+?[-]?\\d{1,3}\\.\\d{1,}[,]?[NESWnesw])'\n",
    "results = re.findall(pattern, \"This line of latitude and longitude would be written as, -15 °24'15\\\"N, 30°10'3\\\"E, 77.0364S, 38.8951N\")"
   ]
  },
  {
   "cell_type": "code",
   "execution_count": 18,
   "metadata": {},
   "outputs": [
    {
     "data": {
      "text/plain": [
       "['77.0364S, 38.8951N']"
      ]
     },
     "execution_count": 18,
     "metadata": {},
     "output_type": "execute_result"
    }
   ],
   "source": [
    "results"
   ]
  },
  {
   "cell_type": "markdown",
   "metadata": {},
   "source": [
    "### Spacy Library"
   ]
  },
  {
   "cell_type": "code",
   "execution_count": 19,
   "metadata": {},
   "outputs": [],
   "source": [
    "import json\n",
    "import spacy\n",
    "from spacy.tokens import Doc\n",
    "from spacy.lang.en import English\n",
    "from spacy.matcher import Matcher"
   ]
  },
  {
   "cell_type": "code",
   "execution_count": 20,
   "metadata": {},
   "outputs": [],
   "source": [
    "nlp = spacy.load('en_core_web_md')\n",
    "matcher = Matcher(nlp.vocab)"
   ]
  },
  {
   "cell_type": "code",
   "execution_count": 21,
   "metadata": {},
   "outputs": [],
   "source": [
    "sentence1 = nlp(\"For example, say you have a line of latitude at -15°N, 24 minutes, and 15 seconds. You have a line of longitude at 19 E, 30°E, 10 minutes, and 3 seconds.\")\n",
    "sentence2 = nlp(\"This line of latitude and longitude would be written as, -15 °24' 15\\\"N, 30° 10' 3\\\" E, 77.0364 S, 38.8951 N\")"
   ]
  },
  {
   "cell_type": "code",
   "execution_count": 22,
   "metadata": {},
   "outputs": [
    {
     "name": "stdout",
     "output_type": "stream",
     "text": [
      "['This', 'line', 'of', 'latitude', 'and', 'longitude', 'would', 'be', 'written', 'as', ',', '-15', '°', '24', \"'\", '15\"N', ',', '30', '°', '10', \"'\", '3', '\"', 'E', ',', '77.0364', 'S', ',', '38.8951', 'N']\n"
     ]
    }
   ],
   "source": [
    "print([token.text for token in sentence2])"
   ]
  },
  {
   "cell_type": "code",
   "execution_count": 23,
   "metadata": {},
   "outputs": [],
   "source": [
    "pattern = [[{'LIKE_NUM': True}, {\"TEXT\": {\"REGEX\" : \"[°|o|◦|′|\\'|`|\\\"|,]\"}, \"OP\": \"?\"}, {'LIKE_NUM': True}, {\"TEXT\": {\"REGEX\" : \"[°|o|◦|′|\\'|`|\\\"|,]\"}, \"OP\": \"?\"}, {'LIKE_NUM': True}, {\"TEXT\": {\"REGEX\" : \"[°|o|◦|′|\\'|`|\\\"|,]\"}, \"OP\": \"?\"}]]\n",
    "\n",
    "#pattern2 = [{\"LOWER\": {\"REGEX\": \"([-]?\\d{1,3}\\.\\d{1,}[,]?[NESWnesw])\"}}, {\"TEXT\":\",\"}, {\"LOWER\": {\"REGEX\": \"([-]?\\d{1,3}\\.\\d{1,}[,]?[NESWnesw])\"}}]\n",
    "#pattern3 = [{'LIKE_NUM': True, \"OP\": \"+\"}, {\"TEXT\": \"°\", \"OP\": \"?\"}, {\"LOWER\": {\"REGEX\": \"^[nesw]$\"}}]\n",
    "#pattern4 = [{'LIKE_NUM': True}, {\"TEXT\": {\"REGEX\" : \"[°|o|◦|′|\\'|`|\\\"|,]\"}, \"OP\": \"?\"}, {'LIKE_NUM': True}, {\"TEXT\": {\"REGEX\" : \"[°|o|◦|′|\\'|`|\\\"|,]\"}, \"OP\": \"?\"}, {\"LOWER\": {\"REGEX\": \"([-]?\\d{1,3}[\\\"NESW])\"}}]\n",
    "#pattern5 = [{'LIKE_NUM': True}, {\"TEXT\": \"°\", \"OP\": \"?\"}, {\"LOWER\": {\"REGEX\": \"^[nesw]$\"}}, {\"TEXT\": \",\"}, {'LIKE_NUM': True}, {\"LOWER\": \"minutes\"}, {\"TEXT\": \",\"}, {\"LOWER\":\"and\"},{'LIKE_NUM': True}, {\"LOWER\": \"seconds\"}]"
   ]
  },
  {
   "cell_type": "code",
   "execution_count": 25,
   "metadata": {},
   "outputs": [],
   "source": [
    "matcher.add(\"coords\", pattern)"
   ]
  },
  {
   "cell_type": "code",
   "execution_count": 26,
   "metadata": {},
   "outputs": [],
   "source": [
    "matches = matcher(sentence2)"
   ]
  },
  {
   "cell_type": "code",
   "execution_count": 27,
   "metadata": {},
   "outputs": [
    {
     "name": "stdout",
     "output_type": "stream",
     "text": [
      "30° 10' 3\n",
      "30° 10' 3\"\n"
     ]
    }
   ],
   "source": [
    "for match_id, start, end in matches:\n",
    "    # Get the matched span\n",
    "    matched_span = sentence2[start:end]\n",
    "    print(matched_span.text)"
   ]
  },
  {
   "cell_type": "code",
   "execution_count": null,
   "metadata": {},
   "outputs": [],
   "source": []
  }
 ],
 "metadata": {
  "interpreter": {
   "hash": "dca0ade3e726a953b501b15e8e990130d2b7799f14cfd9f4271676035ebe5511"
  },
  "kernelspec": {
   "display_name": "spacyk",
   "language": "python",
   "name": "spacyk"
  },
  "language_info": {
   "codemirror_mode": {
    "name": "ipython",
    "version": 3
   },
   "file_extension": ".py",
   "mimetype": "text/x-python",
   "name": "python",
   "nbconvert_exporter": "python",
   "pygments_lexer": "ipython3",
   "version": "3.8.8"
  }
 },
 "nbformat": 4,
 "nbformat_minor": 2
}
