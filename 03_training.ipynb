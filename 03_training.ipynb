{
 "cells": [
  {
   "cell_type": "code",
   "execution_count": 2,
   "metadata": {},
   "outputs": [],
   "source": [
    "import json\n",
    "import spacy\n",
    "from spacy.tokens import Doc\n",
    "from spacy.lang.en import English\n",
    "from spacy.matcher import Matcher\n",
    "from spacy import displacy"
   ]
  },
  {
   "cell_type": "markdown",
   "metadata": {},
   "source": [
    "# Name Entity Recognition Task\n",
    "## Model Training"
   ]
  },
  {
   "cell_type": "code",
   "execution_count": 3,
   "metadata": {},
   "outputs": [
    {
     "data": {
      "text/plain": [
       "'/Users/seiryu8808/Desktop/UWisc/Throughput/UnacquiredSites_NER'"
      ]
     },
     "execution_count": 3,
     "metadata": {},
     "output_type": "execute_result"
    }
   ],
   "source": [
    "pwd()"
   ]
  },
  {
   "cell_type": "code",
   "execution_count": 5,
   "metadata": {},
   "outputs": [],
   "source": [
    "with open('data/training_data.json', 'r') as json_file:\n",
    "    TRAINING_DATA = json.load(json_file)"
   ]
  },
  {
   "cell_type": "code",
   "execution_count": 6,
   "metadata": {},
   "outputs": [
    {
     "data": {
      "text/plain": [
       "29"
      ]
     },
     "execution_count": 6,
     "metadata": {},
     "output_type": "execute_result"
    }
   ],
   "source": [
    "len(TRAINING_DATA)"
   ]
  },
  {
   "cell_type": "code",
   "execution_count": 8,
   "metadata": {},
   "outputs": [],
   "source": [
    "nlp = spacy.load('en_core_web_md')"
   ]
  },
  {
   "cell_type": "markdown",
   "metadata": {},
   "source": [
    "# Adding labels to existing pipeline"
   ]
  },
  {
   "cell_type": "code",
   "execution_count": 9,
   "metadata": {},
   "outputs": [
    {
     "data": {
      "text/plain": [
       "1"
      ]
     },
     "execution_count": 9,
     "metadata": {},
     "output_type": "execute_result"
    }
   ],
   "source": [
    "# nlp.pipe_names\n",
    "ner = nlp.get_pipe('ner')\n",
    "ner.add_label(\"COORDS\")"
   ]
  },
  {
   "cell_type": "markdown",
   "metadata": {},
   "source": [
    "## Training"
   ]
  },
  {
   "cell_type": "code",
   "execution_count": 13,
   "metadata": {},
   "outputs": [
    {
     "name": "stdout",
     "output_type": "stream",
     "text": [
      "{'ner': 9.108863855806177}\n",
      "{'ner': 18.221143527389277}\n",
      "{'ner': 25.22247571579431}\n",
      "{'ner': 32.373351211006906}\n",
      "{'ner': 40.07181624930385}\n",
      "{'ner': 41.69821058798643}\n",
      "{'ner': 52.462991129703816}\n",
      "{'ner': 57.89875829938382}\n",
      "{'ner': 63.53414505563748}\n",
      "{'ner': 72.45448537047879}\n",
      "{'ner': 76.14487627751755}\n",
      "{'ner': 84.88137047118754}\n",
      "{'ner': 87.99790781757113}\n",
      "{'ner': 89.96836577360735}\n",
      "{'ner': 94.69690753323721}\n",
      "{'ner': 5.1137871399982595}\n",
      "{'ner': 13.237061783173848}\n",
      "{'ner': 16.48263190128096}\n",
      "{'ner': 20.336741069756282}\n",
      "{'ner': 22.373563028261657}\n",
      "{'ner': 27.205660067907576}\n",
      "{'ner': 32.314923819021644}\n",
      "{'ner': 35.265951667149025}\n",
      "{'ner': 41.86483956707539}\n",
      "{'ner': 44.08431600356341}\n",
      "{'ner': 49.18441716677253}\n",
      "{'ner': 55.68017790390078}\n",
      "{'ner': 57.984064872322925}\n",
      "{'ner': 59.55797412150059}\n",
      "{'ner': 64.62055176174692}\n",
      "{'ner': 27.260258923168294}\n",
      "{'ner': 30.39030761242975}\n",
      "{'ner': 32.58377999529293}\n",
      "{'ner': 34.681297952075724}\n",
      "{'ner': 38.188009240570345}\n",
      "{'ner': 42.49125465375463}\n",
      "{'ner': 44.054810106312004}\n",
      "{'ner': 51.64282767939511}\n",
      "{'ner': 75.0677426292908}\n",
      "{'ner': 79.24587596177216}\n",
      "{'ner': 84.14580482128972}\n",
      "{'ner': 86.62889035684759}\n",
      "{'ner': 89.99679598364733}\n",
      "{'ner': 92.59888790353847}\n",
      "{'ner': 94.56595388692023}\n",
      "{'ner': 0.8769276276086657}\n"
     ]
    },
    {
     "name": "stderr",
     "output_type": "stream",
     "text": [
      "/opt/anaconda3/lib/python3.8/site-packages/thinc/layers/layernorm.py:32: RuntimeWarning: invalid value encountered in reciprocal\n",
      "  d_xhat = N * dY - sum_dy - dist * var ** (-1.0) * sum_dy_dist\n"
     ]
    },
    {
     "name": "stdout",
     "output_type": "stream",
     "text": [
      "{'ner': 2.0537392085796}\n",
      "{'ner': 18.536974586916827}\n",
      "{'ner': 22.922025703319505}\n",
      "{'ner': 24.802186803565192}\n",
      "{'ner': 26.957493663592842}\n",
      "{'ner': 29.059482243513216}\n",
      "{'ner': 31.832622355203554}\n",
      "{'ner': 39.77118163800396}\n",
      "{'ner': 41.59629911740269}\n",
      "{'ner': 55.96896232901002}\n",
      "{'ner': 58.38411178181691}\n",
      "{'ner': 60.90150410190466}\n",
      "{'ner': 62.606706461543496}\n",
      "{'ner': 66.11558603726843}\n",
      "{'ner': 1.416781892078087}\n",
      "{'ner': 2.7562204326346684}\n",
      "{'ner': 75.77804648596077}\n",
      "{'ner': 78.97369807338555}\n",
      "{'ner': 94.47454552008386}\n",
      "{'ner': 111.95531994901214}\n",
      "{'ner': 123.37300692591533}\n",
      "{'ner': 129.8765786694703}\n",
      "{'ner': 134.0225997946833}\n",
      "{'ner': 143.30869019040355}\n",
      "{'ner': 146.00838995304807}\n",
      "{'ner': 186.25087066407235}\n",
      "{'ner': 195.8536064062351}\n",
      "{'ner': 198.37544455478667}\n",
      "{'ner': 200.22681581953677}\n",
      "{'ner': 29.08212900589248}\n",
      "{'ner': 40.787606248444334}\n",
      "{'ner': 42.60412688035025}\n",
      "{'ner': 43.97551017322225}\n",
      "{'ner': 55.45668013647791}\n",
      "{'ner': 69.08752412277498}\n",
      "{'ner': 124.6368380963457}\n",
      "{'ner': 138.83094705220773}\n",
      "{'ner': 144.83037851680876}\n",
      "{'ner': 169.5929129132181}\n",
      "{'ner': 173.93603289995312}\n",
      "{'ner': 176.44346635639337}\n",
      "{'ner': 179.7094031770786}\n",
      "{'ner': 187.16814963438335}\n",
      "{'ner': 191.8672423763566}\n",
      "{'ner': 4.34582090933926}\n",
      "{'ner': 11.402512846311861}\n",
      "{'ner': 15.104159645800102}\n",
      "{'ner': 20.114153732250315}\n",
      "{'ner': 24.767669842067047}\n",
      "{'ner': 28.524695859815}\n",
      "{'ner': 58.46524779644143}\n",
      "{'ner': 62.743723212118795}\n",
      "{'ner': 64.01705365309118}\n",
      "{'ner': 77.27517056866213}\n",
      "{'ner': 80.23841214700846}\n",
      "{'ner': 84.97803096425028}\n",
      "{'ner': 89.07843230252223}\n",
      "{'ner': 92.94965445156748}\n",
      "{'ner': 94.55643293445021}\n",
      "{'ner': 1.2335762328353326}\n",
      "{'ner': 2.4987483872750786}\n",
      "{'ner': 4.928554080283844}\n",
      "{'ner': 11.92921900413153}\n",
      "{'ner': 16.477363402710967}\n",
      "{'ner': 18.562559173797915}\n",
      "{'ner': 21.44364999537383}\n",
      "{'ner': 26.020212318196457}\n",
      "{'ner': 26.62952987700453}\n",
      "{'ner': 30.793186449804534}\n",
      "{'ner': 31.043963185443367}\n",
      "{'ner': 31.63782664023908}\n",
      "{'ner': 31.7668094043044}\n",
      "{'ner': 33.87139176115021}\n",
      "{'ner': 39.090979243660826}\n",
      "{'ner': 1.3301880121410663}\n",
      "{'ner': 10.647976042957042}\n",
      "{'ner': 17.129192924982053}\n",
      "{'ner': 18.687101476206625}\n",
      "{'ner': 20.553328192631447}\n",
      "{'ner': 22.352021006500305}\n",
      "{'ner': 34.92509026549428}\n",
      "{'ner': 37.01637159520895}\n",
      "{'ner': 38.996522168250266}\n",
      "{'ner': 39.240777322794834}\n",
      "{'ner': 43.43147170293659}\n",
      "{'ner': 44.98561765321331}\n",
      "{'ner': 50.92406883367519}\n",
      "{'ner': 58.82507839298077}\n",
      "{'ner': 62.42769504136274}\n",
      "{'ner': 0.8783788103389263}\n",
      "{'ner': 2.747667301848322}\n",
      "{'ner': 10.042121589387802}\n",
      "{'ner': 10.058711046514048}\n",
      "{'ner': 10.06267005663424}\n",
      "{'ner': 14.252245441547979}\n",
      "{'ner': 34.893090734198495}\n",
      "{'ner': 35.829369130551996}\n",
      "{'ner': 36.04494645363248}\n",
      "{'ner': 36.83794184817189}\n",
      "{'ner': 39.31906766370745}\n",
      "{'ner': 41.350373847909864}\n",
      "{'ner': 47.17836583812049}\n",
      "{'ner': 49.60692747731887}\n",
      "{'ner': 50.56271998935455}\n",
      "{'ner': 1.094179352816715}\n",
      "{'ner': 1.4829461204687113}\n",
      "{'ner': 1.50870842079886}\n",
      "{'ner': 1.590170553138692}\n",
      "{'ner': 3.8762622697260904}\n",
      "{'ner': 3.8809930301514366}\n",
      "{'ner': 4.606017422736564}\n",
      "{'ner': 6.43629162129935}\n",
      "{'ner': 8.471948149807279}\n",
      "{'ner': 10.719302212206715}\n",
      "{'ner': 10.727062966500199}\n",
      "{'ner': 10.737367821621538}\n",
      "{'ner': 10.737543034385238}\n",
      "{'ner': 18.139762962621646}\n",
      "{'ner': 29.745638696010978}\n",
      "{'ner': 2.0930801431813446}\n",
      "{'ner': 2.123055487026606}\n",
      "{'ner': 2.1231045762137866}\n",
      "{'ner': 2.1240900405121907}\n",
      "{'ner': 4.372989900036892}\n",
      "{'ner': 4.3732983220614505}\n",
      "{'ner': 7.9463668947962685}\n",
      "{'ner': 8.210385898539835}\n",
      "{'ner': 15.976792303172607}\n",
      "{'ner': 17.937139747924963}\n",
      "{'ner': 17.940604807321762}\n",
      "{'ner': 18.010199817909708}\n",
      "{'ner': 21.951927616909437}\n",
      "{'ner': 24.074709663918632}\n",
      "{'ner': 24.138787669766412}\n",
      "{'ner': 1.2303087168170979}\n",
      "{'ner': 3.1994384179852675}\n",
      "{'ner': 7.071113197324524}\n",
      "{'ner': 9.12481725131122}\n",
      "{'ner': 9.641412056684633}\n",
      "{'ner': 9.642703991904797}\n",
      "{'ner': 9.661582797655315}\n",
      "{'ner': 10.038295225912629}\n",
      "{'ner': 11.136284079149485}\n",
      "{'ner': 13.338791292296234}\n",
      "{'ner': 17.611131612378017}\n",
      "{'ner': 27.036710861493937}\n",
      "{'ner': 28.820667525941673}\n",
      "{'ner': 30.487435645615964}\n",
      "{'ner': 31.198917968383675}\n",
      "{'ner': 0.36941170404903617}\n",
      "{'ner': 1.0054372338216835}\n",
      "{'ner': 1.5851133861912547}\n",
      "{'ner': 3.391984456579095}\n",
      "{'ner': 3.3928804364857776}\n",
      "{'ner': 5.422068313170378}\n",
      "{'ner': 5.426856596544021}\n",
      "{'ner': 7.0520593154671625}\n",
      "{'ner': 7.065838137341772}\n",
      "{'ner': 14.768017295675191}\n",
      "{'ner': 47.37891914910059}\n",
      "{'ner': 48.641463484633086}\n",
      "{'ner': 49.99418893389942}\n",
      "{'ner': 49.99424235263098}\n",
      "{'ner': 53.71671309524358}\n",
      "{'ner': 7.3109634865559885}\n",
      "{'ner': 7.311226654767985}\n",
      "{'ner': 7.3136625078954705}\n",
      "{'ner': 7.4805431336734065}\n",
      "{'ner': 7.521164552986853}\n",
      "{'ner': 9.051740006994644}\n",
      "{'ner': 9.173506151160682}\n",
      "{'ner': 9.905267845594738}\n",
      "{'ner': 10.01621021763126}\n",
      "{'ner': 10.024070432213195}\n",
      "{'ner': 11.9642493115033}\n",
      "{'ner': 15.004566510453692}\n",
      "{'ner': 16.612468307095188}\n",
      "{'ner': 16.633323611927274}\n",
      "{'ner': 16.718627792780705}\n",
      "{'ner': 6.566023548061712}\n",
      "{'ner': 7.503324013896664}\n",
      "{'ner': 7.531828341982339}\n",
      "{'ner': 8.60159577350138}\n",
      "{'ner': 8.974700611599848}\n",
      "{'ner': 10.426079057013313}\n",
      "{'ner': 10.480206189207108}\n",
      "{'ner': 10.480265872790579}\n",
      "{'ner': 12.561244062269363}\n",
      "{'ner': 15.468341717204424}\n",
      "{'ner': 18.37909728903294}\n",
      "{'ner': 19.577599677729136}\n",
      "{'ner': 21.064626058663563}\n",
      "{'ner': 21.064927891066787}\n",
      "{'ner': 25.056888795935873}\n",
      "{'ner': 2.083786080247458}\n",
      "{'ner': 2.4668202732254296}\n",
      "{'ner': 12.352988958011647}\n",
      "{'ner': 12.355545049171615}\n",
      "{'ner': 12.356305811403375}\n",
      "{'ner': 12.375916585457437}\n",
      "{'ner': 14.032528387298537}\n",
      "{'ner': 14.956102923944648}\n",
      "{'ner': 14.959778361586787}\n",
      "{'ner': 15.228169598127028}\n",
      "{'ner': 18.11271046743253}\n",
      "{'ner': 18.37392795843489}\n",
      "{'ner': 18.373965596153987}\n",
      "{'ner': 22.033652816786752}\n",
      "{'ner': 26.14333361161813}\n",
      "{'ner': 1.0421799055945256}\n",
      "{'ner': 2.155179315073934}\n",
      "{'ner': 2.7309641453755313}\n",
      "{'ner': 2.815610169578093}\n",
      "{'ner': 4.102360420268524}\n",
      "{'ner': 6.102688810598529}\n",
      "{'ner': 6.117635352582001}\n",
      "{'ner': 6.481827071167786}\n",
      "{'ner': 13.32026692751254}\n",
      "{'ner': 13.328075803956072}\n",
      "{'ner': 13.328853614846}\n",
      "{'ner': 13.345061370213921}\n",
      "{'ner': 13.3456378863559}\n",
      "{'ner': 14.197504432131256}\n",
      "{'ner': 16.71118483262508}\n",
      "{'ner': 0.00012270200376096935}\n",
      "{'ner': 0.00012648045214146397}\n",
      "{'ner': 0.0009843960783795938}\n",
      "{'ner': 4.282762317873173}\n",
      "{'ner': 35.26170235488319}\n",
      "{'ner': 35.3221772829771}\n",
      "{'ner': 45.96790977428501}\n",
      "{'ner': 45.96805559690655}\n",
      "{'ner': 45.96805943535288}\n",
      "{'ner': 45.97339551022577}\n",
      "{'ner': 45.97923335629299}\n",
      "{'ner': 55.91058205907221}\n",
      "{'ner': 60.19539211514092}\n",
      "{'ner': 60.19546795578913}\n",
      "{'ner': 60.20456748749116}\n",
      "{'ner': 0.6080039811764094}\n",
      "{'ner': 0.6081045044571745}\n",
      "{'ner': 0.6168397629058497}\n",
      "{'ner': 0.6170841370997281}\n",
      "{'ner': 0.8226337343759585}\n",
      "{'ner': 0.8621518884914132}\n",
      "{'ner': 9.70607571322828}\n",
      "{'ner': 9.802071690738716}\n",
      "{'ner': 9.802111783803426}\n",
      "{'ner': 10.138760162534677}\n",
      "{'ner': 10.13877522270031}\n",
      "{'ner': 11.78243117929268}\n",
      "{'ner': 12.115481424915117}\n",
      "{'ner': 12.115673907778634}\n",
      "{'ner': 12.414301125020302}\n",
      "{'ner': 0.6110762473554434}\n",
      "{'ner': 0.6137848221397267}\n",
      "{'ner': 5.4338141821535775}\n",
      "{'ner': 15.02262480854126}\n",
      "{'ner': 15.023212375953234}\n",
      "{'ner': 24.773471312834182}\n",
      "{'ner': 24.77359180974078}\n",
      "{'ner': 25.762062234631646}\n",
      "{'ner': 26.291584129555417}\n",
      "{'ner': 26.466423398066816}\n",
      "{'ner': 26.467468517497544}\n",
      "{'ner': 26.467514624504034}\n",
      "{'ner': 26.923011383963168}\n",
      "{'ner': 26.955229522623174}\n",
      "{'ner': 27.488413706994013}\n",
      "{'ner': 2.023178973384499}\n",
      "{'ner': 2.0234682720955384}\n",
      "{'ner': 4.259016239807147}\n",
      "{'ner': 4.438971960550181}\n",
      "{'ner': 4.57482988822215}\n",
      "{'ner': 4.575562596757644}\n",
      "{'ner': 13.32552186041534}\n",
      "{'ner': 13.325597117757052}\n",
      "{'ner': 13.435213851405535}\n",
      "{'ner': 13.80690538658224}\n",
      "{'ner': 13.806931700527619}\n",
      "{'ner': 13.809264660900554}\n",
      "{'ner': 13.809264978216039}\n",
      "{'ner': 13.809305309276988}\n",
      "{'ner': 23.799917670355647}\n",
      "{'ner': 0.0002171507780987463}\n",
      "{'ner': 0.031058026092445717}\n",
      "{'ner': 0.0310581557886229}\n",
      "{'ner': 0.42440965826528426}\n",
      "{'ner': 0.7295491732099996}\n",
      "{'ner': 0.7295492258295171}\n",
      "{'ner': 10.685419110932473}\n",
      "{'ner': 13.365705801721079}\n",
      "{'ner': 14.67580438319286}\n",
      "{'ner': 14.67643204418416}\n",
      "{'ner': 14.676441272821062}\n",
      "{'ner': 14.913884895310243}\n",
      "{'ner': 15.087815835930913}\n",
      "{'ner': 15.271272180595304}\n",
      "{'ner': 17.225549271125768}\n",
      "{'ner': 0.20279703771052915}\n",
      "{'ner': 0.20280953704791735}\n"
     ]
    },
    {
     "name": "stdout",
     "output_type": "stream",
     "text": [
      "{'ner': 3.316038932962659}\n",
      "{'ner': 6.364002239971379}\n",
      "{'ner': 10.48540713741601}\n",
      "{'ner': 10.485570780663016}\n",
      "{'ner': 13.517707023692624}\n",
      "{'ner': 13.598095917923443}\n",
      "{'ner': 13.598110894392029}\n",
      "{'ner': 13.598111814110673}\n",
      "{'ner': 13.59906795987325}\n",
      "{'ner': 14.053115575537255}\n",
      "{'ner': 16.053080325940062}\n",
      "{'ner': 18.973048104826844}\n",
      "{'ner': 19.027320151348384}\n",
      "{'ner': 4.123411268518942}\n",
      "{'ner': 13.036773429122308}\n",
      "{'ner': 13.887455136921472}\n",
      "{'ner': 13.88840878745491}\n",
      "{'ner': 15.885452787225702}\n",
      "{'ner': 15.892713366040196}\n",
      "{'ner': 15.90598348844094}\n",
      "{'ner': 15.907481756461872}\n",
      "{'ner': 16.985148459548856}\n",
      "{'ner': 16.992212129498334}\n",
      "{'ner': 16.993263016651866}\n",
      "{'ner': 20.978759156355345}\n",
      "{'ner': 22.483202629863523}\n",
      "{'ner': 22.850100208452982}\n",
      "{'ner': 22.851075853894834}\n",
      "{'ner': 9.445813553431618}\n",
      "{'ner': 9.686616201274504}\n",
      "{'ner': 9.68949926058228}\n",
      "{'ner': 9.717917788201683}\n",
      "{'ner': 9.71927772723414}\n",
      "{'ner': 12.728598878885991}\n",
      "{'ner': 12.733436489696278}\n",
      "{'ner': 13.648262807690799}\n",
      "{'ner': 21.052875740892652}\n",
      "{'ner': 22.035663506571325}\n",
      "{'ner': 24.569088841049613}\n",
      "{'ner': 25.18939096352033}\n",
      "{'ner': 26.178613339231312}\n",
      "{'ner': 26.178614882018085}\n",
      "{'ner': 28.130715757613018}\n",
      "{'ner': 3.918630937981398e-07}\n",
      "{'ner': 1.916673417333048e-05}\n",
      "{'ner': 3.020705272548711}\n",
      "{'ner': 3.0207055441262973}\n",
      "{'ner': 4.054684438545685}\n",
      "{'ner': 6.090889414433769}\n",
      "{'ner': 6.579802445044638}\n",
      "{'ner': 6.579803041376821}\n",
      "{'ner': 6.580014238299296}\n",
      "{'ner': 11.883507926941391}\n",
      "{'ner': 11.885912614188545}\n",
      "{'ner': 11.901710480851282}\n",
      "{'ner': 12.866204376506541}\n",
      "{'ner': 12.866817266651267}\n",
      "{'ner': 15.668189044179728}\n",
      "{'ner': 1.964840734169321}\n",
      "{'ner': 1.9648409223048178}\n",
      "{'ner': 4.329865867633081}\n",
      "{'ner': 4.329990770819216}\n",
      "{'ner': 4.330037052133784}\n",
      "{'ner': 4.330086511685608}\n",
      "{'ner': 5.089231894733543}\n",
      "{'ner': 5.089236698651223}\n",
      "{'ner': 8.109932748390067}\n",
      "{'ner': 16.669090568736785}\n",
      "{'ner': 16.669094371662418}\n",
      "{'ner': 18.512807075426828}\n",
      "{'ner': 18.513406089649948}\n",
      "{'ner': 20.295299345185487}\n",
      "{'ner': 20.433526974179753}\n",
      "{'ner': 0.0004225232733124731}\n",
      "{'ner': 4.13308821665442}\n",
      "{'ner': 4.138042717487777}\n",
      "{'ner': 5.736388892541342}\n",
      "{'ner': 9.313019389547042}\n",
      "{'ner': 9.313126928690808}\n",
      "{'ner': 9.329349955653704}\n",
      "{'ner': 10.470583576709183}\n",
      "{'ner': 10.470583799499382}\n",
      "{'ner': 10.475215563120749}\n",
      "{'ner': 10.47521581091704}\n",
      "{'ner': 10.47521747593777}\n",
      "{'ner': 10.49722628000841}\n",
      "{'ner': 10.506080243661724}\n",
      "{'ner': 11.000976664435257}\n",
      "{'ner': 4.20550943948028}\n",
      "{'ner': 4.324854384763252}\n",
      "{'ner': 4.324856122639915}\n",
      "{'ner': 6.03176104458598}\n",
      "{'ner': 7.090198196579195}\n",
      "{'ner': 7.090967582891387}\n",
      "{'ner': 7.090970724106645}\n",
      "{'ner': 8.534396699593874}\n",
      "{'ner': 8.534413835524015}\n",
      "{'ner': 9.28092570563232}\n",
      "{'ner': 9.793134925797956}\n",
      "{'ner': 9.802246599071621}\n",
      "{'ner': 11.560730738408605}\n",
      "{'ner': 11.886602469615376}\n",
      "{'ner': 13.684970666125608}\n"
     ]
    }
   ],
   "source": [
    "import random\n",
    "import json\n",
    "from spacy.training.example import Example\n",
    "\n",
    "\n",
    "# Start the training\n",
    "other_pipes = [pipe for pipe in nlp.pipe_names if pipe != 'ner']\n",
    "with nlp.disable_pipes(*other_pipes):  # only train NER\n",
    "    nlp.create_optimizer()\n",
    "\n",
    "    # Loop for 10 iterations\n",
    "    for itn in range(30):\n",
    "        # Shuffle the training data\n",
    "        random.shuffle(TRAINING_DATA)\n",
    "        losses = {}\n",
    "\n",
    "        # Batch the examples and iterate over them\n",
    "        #for batch in spacy.util.minibatch(TRAINING_DATA, size=2):\n",
    "        #    texts = [text for text, entities in batch]\n",
    "        #    annotations = [entities for text, entities in batch]\n",
    "        \n",
    "        for batch in spacy.util.minibatch(TRAINING_DATA, size=2):\n",
    "            for text, annotations in batch:\n",
    "                # create Example\n",
    "                doc = nlp.make_doc(text)\n",
    "                example = Example.from_dict(doc, annotations)\n",
    "                \n",
    "            # Update the model\n",
    "            nlp.update([example], losses=losses, drop=0.3)\n",
    "\n",
    "            # Update the model\n",
    "            #nlp.update(texts, annotations, losses=losses)\n",
    "            print(losses)"
   ]
  },
  {
   "cell_type": "code",
   "execution_count": 14,
   "metadata": {},
   "outputs": [
    {
     "data": {
      "text/plain": [
       "'This interpretation is supported by correlation with sediments from Salar de Uyuni (20 ° S, 68 ° W ; 3653 masl) .'"
      ]
     },
     "execution_count": 14,
     "metadata": {},
     "output_type": "execute_result"
    }
   ],
   "source": [
    "example = nlp(TRAINING_DATA[6][0])\n",
    "example.text"
   ]
  },
  {
   "cell_type": "code",
   "execution_count": 15,
   "metadata": {},
   "outputs": [
    {
     "data": {
      "text/html": [
       "<span class=\"tex2jax_ignore\"><div class=\"entities\" style=\"line-height: 2.5; direction: ltr\">This interpretation is supported by correlation with sediments from Salar de Uyuni (\n",
       "<mark class=\"entity\" style=\"background: #ddd; padding: 0.45em 0.6em; margin: 0 0.25em; line-height: 1; border-radius: 0.35em;\">\n",
       "    20 ° S, 68 ° W\n",
       "    <span style=\"font-size: 0.8em; font-weight: bold; line-height: 1; border-radius: 0.35em; vertical-align: middle; margin-left: 0.5rem\">COORDS</span>\n",
       "</mark>\n",
       " ; 3653 masl) .</div></span>"
      ],
      "text/plain": [
       "<IPython.core.display.HTML object>"
      ]
     },
     "metadata": {},
     "output_type": "display_data"
    }
   ],
   "source": [
    "doc = nlp(example.text)\n",
    "displacy.render(doc, style=\"ent\")"
   ]
  },
  {
   "cell_type": "code",
   "execution_count": 16,
   "metadata": {},
   "outputs": [],
   "source": [
    "import pickle\n",
    "\n",
    "pickle.dump(nlp, open( \"nlp.pkl\", \"wb\" ))"
   ]
  },
  {
   "cell_type": "code",
   "execution_count": 17,
   "metadata": {},
   "outputs": [],
   "source": [
    "example2 = nlp(\"I have a new house. I bought my house very far far away. It is located in the 110 ° 106 \\\" N, 10 506.30 W  I love it! I think I live in Milan now. I also think that in North Canada gueese are cute.\")"
   ]
  },
  {
   "cell_type": "code",
   "execution_count": 18,
   "metadata": {},
   "outputs": [
    {
     "data": {
      "text/html": [
       "<span class=\"tex2jax_ignore\"><div class=\"entities\" style=\"line-height: 2.5; direction: ltr\">I have a new house. I bought my house very far far away. It is located in the 110 ° 106 &quot; N, 10 506.30 W  I love it! I think I live in \n",
       "<mark class=\"entity\" style=\"background: #feca74; padding: 0.45em 0.6em; margin: 0 0.25em; line-height: 1; border-radius: 0.35em;\">\n",
       "    Milan\n",
       "    <span style=\"font-size: 0.8em; font-weight: bold; line-height: 1; border-radius: 0.35em; vertical-align: middle; margin-left: 0.5rem\">GPE</span>\n",
       "</mark>\n",
       " now. I also think that in \n",
       "<mark class=\"entity\" style=\"background: #feca74; padding: 0.45em 0.6em; margin: 0 0.25em; line-height: 1; border-radius: 0.35em;\">\n",
       "    North Canada\n",
       "    <span style=\"font-size: 0.8em; font-weight: bold; line-height: 1; border-radius: 0.35em; vertical-align: middle; margin-left: 0.5rem\">GPE</span>\n",
       "</mark>\n",
       " gueese are cute.</div></span>"
      ],
      "text/plain": [
       "<IPython.core.display.HTML object>"
      ]
     },
     "metadata": {},
     "output_type": "display_data"
    }
   ],
   "source": [
    "displacy.render(example2, style=\"ent\")"
   ]
  },
  {
   "cell_type": "code",
   "execution_count": 20,
   "metadata": {},
   "outputs": [
    {
     "data": {
      "text/html": [
       "<span class=\"tex2jax_ignore\"><div class=\"entities\" style=\"line-height: 2.5; direction: ltr\">This interpretation is supported by correlation with sediments from Salar de Uyuni (\n",
       "<mark class=\"entity\" style=\"background: #85C1E9; padding: 0.45em 0.6em; margin: 0 0.25em; line-height: 1; border-radius: 0.35em;\">\n",
       "    20 ° S, 68 ° W\n",
       "    <span style=\"font-size: 0.8em; font-weight: bold; line-height: 1; border-radius: 0.35em; vertical-align: middle; margin-left: 0.5rem\">COORDS</span>\n",
       "</mark>\n",
       " ; 3653 masl) .</div></span>"
      ],
      "text/plain": [
       "<IPython.core.display.HTML object>"
      ]
     },
     "metadata": {},
     "output_type": "display_data"
    }
   ],
   "source": [
    "colors = {'COORDS': \"#85C1E9\", \"GPE\": \"#ff6961\", \"LOC\": \"#ff6961\"}\n",
    "options = {\"ents\": ['COORDS', 'GPE', 'LOC'], \"colors\": colors}\n",
    "\n",
    "displacy.render(doc, style='ent',options=options)"
   ]
  },
  {
   "cell_type": "code",
   "execution_count": 21,
   "metadata": {},
   "outputs": [],
   "source": [
    "text = nlp(\"Spruce Pond, 2.6 ha in surface area, is situated at 223 m elevation, with maximum water depth of 5 m, and lies within Harriman State Park, southeastern New York, at 41°14′22″N74°12′15″W (Sloatsburg 7.5′ USGS Quadrangle, 1955). Harriman State Park, a unit of the Palisades Interstate Park, is located in the southwestern corner of the Hudson Highlands. The forests of southeastern New York are included in the Quercus–Castanea region of the eastern deciduous forest by Braun (1964), whereas Ku¨chler (1964) describes certain areas as ecotonal regions between the Quercus forests to the south and the Tsuga–Pinus strobus–northern hardwoods forests to the north. Near Spruce Pond, north-facing slopes are dominated by Quercus rubra, Quercus prinus, Acer saccharum Betula lenta, Acer rubrum, Fagus grandifolia, Liriodendron tulipifera, Betula lutea, and Cornus florida. South-facing slopes are dominated by abundant Quercus velutina, Quercus alba, and Quercus rubra. Two-thirds of Spruce Pond\\’s periphery is a low-shrub bog with Chamaedaphne calyculata, Decodon verticillata, Kalmia angustifolia, and Vaccinium corymbosum dominant (Lynn and Karlin, 1985). The sphagnum mat also supports Larix laricina and Picea mariana.\")"
   ]
  },
  {
   "cell_type": "code",
   "execution_count": 22,
   "metadata": {},
   "outputs": [
    {
     "data": {
      "text/html": [
       "<span class=\"tex2jax_ignore\"><div class=\"entities\" style=\"line-height: 2.5; direction: ltr\">Spruce Pond, 2.6 ha in surface area, is situated at 223 m elevation, with maximum water depth of 5 m, and lies within \n",
       "<mark class=\"entity\" style=\"background: #feca74; padding: 0.45em 0.6em; margin: 0 0.25em; line-height: 1; border-radius: 0.35em;\">\n",
       "    Harriman State Park\n",
       "    <span style=\"font-size: 0.8em; font-weight: bold; line-height: 1; border-radius: 0.35em; vertical-align: middle; margin-left: 0.5rem\">GPE</span>\n",
       "</mark>\n",
       ", southeastern \n",
       "<mark class=\"entity\" style=\"background: #feca74; padding: 0.45em 0.6em; margin: 0 0.25em; line-height: 1; border-radius: 0.35em;\">\n",
       "    New York\n",
       "    <span style=\"font-size: 0.8em; font-weight: bold; line-height: 1; border-radius: 0.35em; vertical-align: middle; margin-left: 0.5rem\">GPE</span>\n",
       "</mark>\n",
       ", at \n",
       "<mark class=\"entity\" style=\"background: #ddd; padding: 0.45em 0.6em; margin: 0 0.25em; line-height: 1; border-radius: 0.35em;\">\n",
       "    41°14′22″N74\n",
       "    <span style=\"font-size: 0.8em; font-weight: bold; line-height: 1; border-radius: 0.35em; vertical-align: middle; margin-left: 0.5rem\">COORDS</span>\n",
       "</mark>\n",
       "°12′15″W (Sloatsburg 7.5′ USGS Quadrangle, 1955). \n",
       "<mark class=\"entity\" style=\"background: #feca74; padding: 0.45em 0.6em; margin: 0 0.25em; line-height: 1; border-radius: 0.35em;\">\n",
       "    Harriman State Park\n",
       "    <span style=\"font-size: 0.8em; font-weight: bold; line-height: 1; border-radius: 0.35em; vertical-align: middle; margin-left: 0.5rem\">GPE</span>\n",
       "</mark>\n",
       ", a unit of the Palisades Interstate Park, is located in the southwestern corner of \n",
       "<mark class=\"entity\" style=\"background: #ff9561; padding: 0.45em 0.6em; margin: 0 0.25em; line-height: 1; border-radius: 0.35em;\">\n",
       "    the Hudson Highlands\n",
       "    <span style=\"font-size: 0.8em; font-weight: bold; line-height: 1; border-radius: 0.35em; vertical-align: middle; margin-left: 0.5rem\">LOC</span>\n",
       "</mark>\n",
       ". The forests of southeastern \n",
       "<mark class=\"entity\" style=\"background: #feca74; padding: 0.45em 0.6em; margin: 0 0.25em; line-height: 1; border-radius: 0.35em;\">\n",
       "    New York\n",
       "    <span style=\"font-size: 0.8em; font-weight: bold; line-height: 1; border-radius: 0.35em; vertical-align: middle; margin-left: 0.5rem\">GPE</span>\n",
       "</mark>\n",
       " are included in the Quercus–Castanea region of the eastern deciduous forest by Braun (1964), whereas Ku¨chler (1964) describes certain areas as ecotonal regions between the Quercus forests to the south and the Tsuga–Pinus strobus–northern hardwoods forests to the north. Near Spruce Pond, north-facing slopes are dominated by Quercus rubra, Quercus prinus, Acer saccharum Betula lenta, Acer rubrum, Fagus grandifolia, Liriodendron tulipifera, Betula lutea, and \n",
       "<mark class=\"entity\" style=\"background: #feca74; padding: 0.45em 0.6em; margin: 0 0.25em; line-height: 1; border-radius: 0.35em;\">\n",
       "    Cornus florida\n",
       "    <span style=\"font-size: 0.8em; font-weight: bold; line-height: 1; border-radius: 0.35em; vertical-align: middle; margin-left: 0.5rem\">GPE</span>\n",
       "</mark>\n",
       ". South-facing slopes are dominated by abundant Quercus velutina, Quercus alba, and Quercus rubra. Two-thirds of Spruce Pond\\’s periphery is a low-shrub bog with Chamaedaphne calyculata, Decodon verticillata, Kalmia angustifolia, and Vaccinium corymbosum dominant (\n",
       "<mark class=\"entity\" style=\"background: #ff9561; padding: 0.45em 0.6em; margin: 0 0.25em; line-height: 1; border-radius: 0.35em;\">\n",
       "    Lynn\n",
       "    <span style=\"font-size: 0.8em; font-weight: bold; line-height: 1; border-radius: 0.35em; vertical-align: middle; margin-left: 0.5rem\">LOC</span>\n",
       "</mark>\n",
       " and \n",
       "<mark class=\"entity\" style=\"background: #feca74; padding: 0.45em 0.6em; margin: 0 0.25em; line-height: 1; border-radius: 0.35em;\">\n",
       "    Karlin\n",
       "    <span style=\"font-size: 0.8em; font-weight: bold; line-height: 1; border-radius: 0.35em; vertical-align: middle; margin-left: 0.5rem\">GPE</span>\n",
       "</mark>\n",
       ", 1985). The sphagnum mat also supports Larix laricina and Picea mariana.</div></span>"
      ],
      "text/plain": [
       "<IPython.core.display.HTML object>"
      ]
     },
     "metadata": {},
     "output_type": "display_data"
    }
   ],
   "source": [
    "\n",
    "displacy.render(text, style=\"ent\")"
   ]
  },
  {
   "cell_type": "code",
   "execution_count": null,
   "metadata": {},
   "outputs": [],
   "source": []
  }
 ],
 "metadata": {
  "interpreter": {
   "hash": "40d3a090f54c6569ab1632332b64b2c03c39dcf918b08424e98f38b5ae0af88f"
  },
  "kernelspec": {
   "display_name": "spacyk",
   "language": "python",
   "name": "spacyk"
  },
  "language_info": {
   "codemirror_mode": {
    "name": "ipython",
    "version": 3
   },
   "file_extension": ".py",
   "mimetype": "text/x-python",
   "name": "python",
   "nbconvert_exporter": "python",
   "pygments_lexer": "ipython3",
   "version": "3.8.8"
  }
 },
 "nbformat": 4,
 "nbformat_minor": 2
}
